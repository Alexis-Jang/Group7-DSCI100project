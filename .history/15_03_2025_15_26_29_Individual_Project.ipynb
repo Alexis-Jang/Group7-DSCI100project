{
 "cells": [
  {
   "cell_type": "code",
   "execution_count": null,
   "id": "cfd865d2-0fa1-474a-a55c-5e91032964ee",
   "metadata": {},
   "outputs": [],
   "source": [
    "library(tidyverse)\n",
    "library(dplyr)\n",
    "library(ggplot2)"
   ]
  },
  {
   "cell_type": "code",
   "execution_count": null,
   "id": "f452a518-916e-44d1-809a-1d6e8ef40d76",
   "metadata": {},
   "outputs": [],
   "source": [
    "playersurl <- \"https://raw.githubusercontent.com/Alexis-Jang/Group7-DSCI100project/refs/heads/main/DSCI%20100%20Players.csv\"\n",
    "players <- read_csv(playersurl)\n",
    "head(players)"
   ]
  },
  {
   "cell_type": "code",
   "execution_count": null,
   "id": "a15d6b39-9eaf-495f-aaac-8acac260619a",
   "metadata": {},
   "outputs": [],
   "source": [
    "players <- players |>\n",
    "    select(Age, gender, played_hours)"
   ]
  },
  {
   "cell_type": "code",
   "execution_count": null,
   "id": "ebcb03fd-1745-4bed-b91e-e438ca5b963d",
   "metadata": {},
   "outputs": [],
   "source": [
    "head(players)"
   ]
  },
  {
   "cell_type": "code",
   "execution_count": null,
   "id": "a2f41c06-3c7f-4947-a9d3-5332db0d5a96",
   "metadata": {},
   "outputs": [],
   "source": [
    "age_plot <- players|>\n",
    "    ggplot(aes(x = Age, y = played_hours, fill = gender))+\n",
    "            geom_bar(stat = \"identity\") +\n",
    "    labs(x = \"Age (in years)\", y = \"Hours played\", title = \"Age vs. Hours Played Bar Graph\", fill = \"Gender\")\n",
    "age_plot"
   ]
  },
  {
   "cell_type": "code",
   "execution_count": null,
   "id": "f45a374f-53b2-4043-9afb-ff3cd0fc3987",
   "metadata": {},
   "outputs": [],
   "source": [
    "gender_plot <- players|>\n",
    "    ggplot(aes(x = gender, y = played_hours, fill = gender))+\n",
    "            geom_bar(stat = \"identity\") +\n",
    "    labs(x = \"Gender\", y = \"Hours played\", title = \"Gender vs. Hours Played Bar Graph\", fill = \"Gender\")\n",
    "gender_plot"
   ]
  },
  {
   "cell_type": "code",
   "execution_count": null,
   "id": "0cace513-8360-4307-9f61-36f7800cc2da",
   "metadata": {},
   "outputs": [],
   "source": [
    "head(players)"
   ]
  },
  {
   "cell_type": "code",
   "execution_count": null,
   "id": "8763a4d4-44c3-445b-b244-a328ebcbe826",
   "metadata": {},
   "outputs": [],
   "source": []
  },
  {
   "cell_type": "code",
   "execution_count": null,
   "id": "efc1bc03-e05c-4ac3-8878-7f63c8bbe253",
   "metadata": {},
   "outputs": [],
   "source": []
  }
 ],
 "metadata": {
  "kernelspec": {
   "display_name": "R",
   "language": "R",
   "name": "ir"
  },
  "language_info": {
   "codemirror_mode": "r",
   "file_extension": ".r",
   "mimetype": "text/x-r-source",
   "name": "R",
   "pygments_lexer": "r",
   "version": "4.3.3"
  }
 },
 "nbformat": 4,
 "nbformat_minor": 5
}
