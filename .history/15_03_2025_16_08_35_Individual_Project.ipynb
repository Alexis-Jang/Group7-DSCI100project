{
 "cells": [
  {
   "cell_type": "code",
   "execution_count": null,
   "id": "cfd865d2-0fa1-474a-a55c-5e91032964ee",
   "metadata": {},
   "outputs": [],
   "source": [
    "library(tidyverse)\n",
    "library(dplyr)\n",
    "library(ggplot2)"
   ]
  },
  {
   "cell_type": "code",
   "execution_count": null,
   "id": "f452a518-916e-44d1-809a-1d6e8ef40d76",
   "metadata": {},
   "outputs": [],
   "source": [
    "playersurl <- \"https://raw.githubusercontent.com/Alexis-Jang/Group7-DSCI100project/refs/heads/main/DSCI%20100%20Players.csv\"\n",
    "players1 <- read_csv(playersurl)\n",
    "head(players1)"
   ]
  },
  {
   "cell_type": "markdown",
   "id": "9943847e-3a16-4568-9bec-ac8e4da73173",
   "metadata": {},
   "source": [
    "Provide a full descriptive summary of the dataset, including information such as the number of observations, summary statistics, number of variables, name and type of variables, what the variables mean, any issues you see in the data, any other potential issues related to things you cannot directly see, how the data were collected, etc. Make sure to use bullet point lists or tables to summarize the variables in an easy-to-understand format.\n",
    "\n",
    "Note that the selected dataset(s) will probably contain more variables than you need. In fact, exploring how the different variables in the dataset affect your model may be a crucial part of the project. You need to summarize the full data regardless of which variables you may choose to use later on.\n",
    "\n",
    "- The players data set has 196 observations.\n",
    "- There are 7 variables:\n",
    "       - Experience level(Amateur, Regular, Pro, Veteran): `experience'\n",
    "  "
   ]
  },
  {
   "cell_type": "code",
   "execution_count": null,
   "id": "0de32801-fa6e-4658-9413-d81a5212da62",
   "metadata": {},
   "outputs": [],
   "source": [
    "summary(players1)\n"
   ]
  },
  {
   "cell_type": "code",
   "execution_count": null,
   "id": "a15d6b39-9eaf-495f-aaac-8acac260619a",
   "metadata": {},
   "outputs": [],
   "source": [
    "players <- players1 |>\n",
    "    select(Age, gender, played_hours)"
   ]
  },
  {
   "cell_type": "code",
   "execution_count": null,
   "id": "ebcb03fd-1745-4bed-b91e-e438ca5b963d",
   "metadata": {},
   "outputs": [],
   "source": [
    "head(players)"
   ]
  },
  {
   "cell_type": "code",
   "execution_count": null,
   "id": "a2f41c06-3c7f-4947-a9d3-5332db0d5a96",
   "metadata": {},
   "outputs": [],
   "source": [
    "age_plot <- players|>\n",
    "    ggplot(aes(x = Age, y = played_hours, fill = gender))+\n",
    "            geom_bar(stat = \"identity\") +\n",
    "    labs(x = \"Age (in years)\", y = \"Hours played\", title = \"Age vs. Hours Played Bar Graph\", fill = \"Gender\")\n",
    "age_plot"
   ]
  },
  {
   "cell_type": "code",
   "execution_count": null,
   "id": "f45a374f-53b2-4043-9afb-ff3cd0fc3987",
   "metadata": {},
   "outputs": [],
   "source": [
    "gender_plot <- players|>\n",
    "    ggplot(aes(x = gender, y = played_hours, fill = gender))+\n",
    "            geom_bar(stat = \"identity\") +\n",
    "    labs(x = \"Gender\", y = \"Hours played\", title = \"Gender vs. Hours Played Bar Graph\", fill = \"Gender\")\n",
    "gender_plot"
   ]
  },
  {
   "cell_type": "code",
   "execution_count": null,
   "id": "0cace513-8360-4307-9f61-36f7800cc2da",
   "metadata": {},
   "outputs": [],
   "source": [
    "head(players)"
   ]
  },
  {
   "cell_type": "markdown",
   "id": "1285c760-316e-4974-b5ec-174633a2e6df",
   "metadata": {},
   "source": [
    "The quantitative values in this data set are Age and played_hours, both in the double or \"dbl\" form. To compute the mean for each variable:"
   ]
  },
  {
   "cell_type": "code",
   "execution_count": null,
   "id": "efc1bc03-e05c-4ac3-8878-7f63c8bbe253",
   "metadata": {},
   "outputs": [],
   "source": [
    "players |>\n",
    "    select(Age, played_hours) |>\n",
    "    map(mean, na.rm = TRUE)\n",
    "   \n",
    "    "
   ]
  },
  {
   "cell_type": "code",
   "execution_count": null,
   "id": "3b03ccf2-2acf-4e24-ae68-5c819abdf064",
   "metadata": {},
   "outputs": [],
   "source": [
    "players"
   ]
  },
  {
   "cell_type": "code",
   "execution_count": null,
   "id": "a6ada8d1-fcaa-4f3f-a3d2-7b0e2b744322",
   "metadata": {},
   "outputs": [],
   "source": []
  },
  {
   "cell_type": "code",
   "execution_count": null,
   "id": "299ed255-e46c-476e-bbc2-daa7c91dde36",
   "metadata": {},
   "outputs": [],
   "source": []
  },
  {
   "cell_type": "code",
   "execution_count": null,
   "id": "fc984197-a744-4280-9cef-9a4e1c214bae",
   "metadata": {},
   "outputs": [],
   "source": []
  },
  {
   "cell_type": "code",
   "execution_count": null,
   "id": "2c3105d7-ef9e-4f89-8e3a-3a9d25ab0e3e",
   "metadata": {},
   "outputs": [],
   "source": []
  },
  {
   "cell_type": "code",
   "execution_count": null,
   "id": "b6c5413f-a17e-4901-b40e-23b1161ff421",
   "metadata": {},
   "outputs": [],
   "source": []
  },
  {
   "cell_type": "code",
   "execution_count": null,
   "id": "fa0f5deb-33dd-4bd2-8830-af00cb1386c6",
   "metadata": {},
   "outputs": [],
   "source": []
  }
 ],
 "metadata": {
  "kernelspec": {
   "display_name": "R",
   "language": "R",
   "name": "ir"
  },
  "language_info": {
   "codemirror_mode": "r",
   "file_extension": ".r",
   "mimetype": "text/x-r-source",
   "name": "R",
   "pygments_lexer": "r",
   "version": "4.3.3"
  }
 },
 "nbformat": 4,
 "nbformat_minor": 5
}
