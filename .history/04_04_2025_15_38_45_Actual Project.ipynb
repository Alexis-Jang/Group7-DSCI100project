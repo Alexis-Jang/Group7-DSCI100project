{
 "cells": [
  {
   "cell_type": "code",
   "execution_count": null,
   "id": "45cdce37-579e-4708-8140-cda510797882",
   "metadata": {},
   "outputs": [],
   "source": [
    "library(tidyverse)\n",
    "library(tidymodels)\n",
    "library(repr)\n",
    "library(dplyr)\n"
   ]
  },
  {
   "cell_type": "code",
   "execution_count": null,
   "id": "c0b91c29-9598-4aaa-ae68-5ea5b2879bf3",
   "metadata": {},
   "outputs": [],
   "source": [
    "playersurl <-\"https://raw.githubusercontent.com/Alexis-Jang/Group7-DSCI100project/refs/heads/main/DSCI%20100%20Players.csv\"\n",
    "players.csv <- \"players.csv\"\n",
    "download.file(playersurl,players.csv, mode = \"wb\")\n",
    "players1 <- read.csv(players.csv)\n",
    "head(players1)"
   ]
  },
  {
   "cell_type": "markdown",
   "id": "0f761b38-797d-447b-9ea3-2ff47181aece",
   "metadata": {},
   "source": [
    "The players data set has 196 observations in this data set. It tells us that there are 7 variables. Below are the variables and their relevant summary statistics:\n",
    "  \n",
    "`experience` - character (chr) data type\n",
    "- Experience level(Amateur, Regular, Pro, Veteran)\n",
    "\n",
    "`subscribe` - logical (log) data type\n",
    "- Whether or not the player subscribed\n",
    "  - FALSE: 52\n",
    "  - TRUE: 144\n",
    "\n",
    "`hashedEmail` - as a character (chr) data type\n",
    "- The player's email (hidden)\n",
    "\n",
    "`played_hours` - as a double (dbl) data type\n",
    "- The hours spent playing on the server \n",
    "    - minimum: 0.000 \n",
    "    - maximum: 223.100\n",
    "    - median: 0.100\n",
    "    - mean: 5.846\n",
    "    - standard deviation: 28.35734 \n",
    "\n",
    "`name` - as a character (chr) data type\n",
    "- The player's name\n",
    "\n",
    "`gender` - as a character (chr) data type\n",
    "- The player's gender\n",
    "\n",
    "`Age` - as a double (dbl) data type\n",
    "- The player's age\n",
    "    - minimum: 8.00\n",
    "    - maximum: 50.00\n",
    "    - median: 19.00\n",
    "    - mean: 20.52\n",
    "    - standard deviation: 6.174667\n",
    "    - NAs: 2 -> This means that 2 players decided to not disclose their age"
   ]
  },
  {
   "cell_type": "code",
   "execution_count": null,
   "id": "16facfd2-2c75-43fe-ac3a-46a396d9dcc0",
   "metadata": {},
   "outputs": [],
   "source": [
    "players <- players1 |>\n",
    "    select(Age, played_hours)\n",
    "head(players)"
   ]
  },
  {
   "cell_type": "code",
   "execution_count": null,
   "id": "5d385a3c-b2d6-4d5b-b3dc-f335e68409be",
   "metadata": {},
   "outputs": [],
   "source": [
    "players_split <- initial_split(players, prop = 0.60, strata = played_hours)\n",
    "players_training <- training(players_split)\n",
    "players_testing <- testing(players_split)"
   ]
  },
  {
   "cell_type": "code",
   "execution_count": null,
   "id": "098d2976-5352-4b8b-ba55-16aeb9ff8644",
   "metadata": {},
   "outputs": [],
   "source": [
    "options(repr.plot.width = 8, repr.plot.height = 7)\n",
    "age_plot <- players_training|>\n",
    "    ggplot(aes(x = Age, y = played_hours))+\n",
    "            geom_bar(stat = \"identity\") +\n",
    "    labs(x = \"Age (in Years)\", y = \"Hours Played\", title = \"Graph 1.0: Age vs. Hours Played Bar Graph\") +\n",
    "    theme(element_text(size = 15))\n",
    "age_plot"
   ]
  },
  {
   "cell_type": "code",
   "execution_count": null,
   "id": "fe6857f8-2149-4fff-8287-eab86b764848",
   "metadata": {},
   "outputs": [],
   "source": []
  },
  {
   "cell_type": "code",
   "execution_count": null,
   "id": "d6dac482-2c30-48f1-a7fa-f6d214cc02f3",
   "metadata": {},
   "outputs": [],
   "source": []
  },
  {
   "cell_type": "code",
   "execution_count": null,
   "id": "2f642e1d-dad9-44e8-9932-df744a3e6959",
   "metadata": {},
   "outputs": [],
   "source": []
  }
 ],
 "metadata": {
  "kernelspec": {
   "display_name": "R",
   "language": "R",
   "name": "ir"
  },
  "language_info": {
   "codemirror_mode": "r",
   "file_extension": ".r",
   "mimetype": "text/x-r-source",
   "name": "R",
   "pygments_lexer": "r",
   "version": "4.3.3"
  }
 },
 "nbformat": 4,
 "nbformat_minor": 5
}
