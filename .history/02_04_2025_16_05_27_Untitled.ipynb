{
 "cells": [
  {
   "cell_type": "code",
   "execution_count": null,
   "id": "45cdce37-579e-4708-8140-cda510797882",
   "metadata": {},
   "outputs": [],
   "source": [
    "playersurl <-\"https://raw.githubusercontent.com/Alexis-Jang/Group7-DSCI100project/refs/heads/main/DSCI%20100%20Players.csv\"\n",
    "players.csv <- \"players.csv\"\n",
    "download.file(playersurl,players.csv, mode = \"wb\")\n",
    "players1 <- read.csv(players.csv)\n",
    "head(players1)\n",
    "sessionsurl <-\"https://raw.githubusercontent.com/Alexis-Jang/Group7-DSCI100project/refs/heads/main/DSCI%20100%20sessions.csv\"\n",
    "sessions.csv <- \"sessions.csv\"\n",
    "download.file(sessionsurl,sessions.csv, mode = \"wb\")\n",
    "sessions <- read.csv(sessions.csv)\n",
    "head(sessions)"
   ]
  },
  {
   "cell_type": "code",
   "execution_count": null,
   "id": "159d934b-bcdc-46fb-a6dc-135720d45d7b",
   "metadata": {},
   "outputs": [],
   "source": []
  }
 ],
 "metadata": {
  "kernelspec": {
   "display_name": "R",
   "language": "R",
   "name": "ir"
  },
  "language_info": {
   "codemirror_mode": "r",
   "file_extension": ".r",
   "mimetype": "text/x-r-source",
   "name": "R",
   "pygments_lexer": "r",
   "version": "4.3.3"
  }
 },
 "nbformat": 4,
 "nbformat_minor": 5
}
