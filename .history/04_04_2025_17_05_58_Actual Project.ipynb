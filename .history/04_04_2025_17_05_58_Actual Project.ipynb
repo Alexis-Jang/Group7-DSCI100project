{
 "cells": [
  {
   "cell_type": "code",
   "execution_count": null,
   "id": "45cdce37-579e-4708-8140-cda510797882",
   "metadata": {},
   "outputs": [],
   "source": [
    "library(tidyverse)\n",
    "library(tidymodels)\n",
    "library(repr)\n",
    "library(dplyr)\n"
   ]
  },
  {
   "cell_type": "code",
   "execution_count": null,
   "id": "c0b91c29-9598-4aaa-ae68-5ea5b2879bf3",
   "metadata": {},
   "outputs": [],
   "source": [
    "playersurl <-\"https://raw.githubusercontent.com/Alexis-Jang/Group7-DSCI100project/refs/heads/main/DSCI%20100%20Players.csv\"\n",
    "players.csv <- \"players.csv\"\n",
    "download.file(playersurl,players.csv, mode = \"wb\")\n",
    "players1 <- read.csv(players.csv)\n",
    "head(players1)"
   ]
  },
  {
   "cell_type": "markdown",
   "id": "0f761b38-797d-447b-9ea3-2ff47181aece",
   "metadata": {},
   "source": [
    "The players data set has 196 observations in this data set. It tells us that there are 7 variables. Below are the variables and their relevant summary statistics:\n",
    "  \n",
    "`experience` - character (chr) data type\n",
    "- Experience level(Amateur, Regular, Pro, Veteran)\n",
    "\n",
    "`subscribe` - logical (log) data type\n",
    "- Whether or not the player subscribed\n",
    "  - FALSE: 52\n",
    "  - TRUE: 144\n",
    "\n",
    "`hashedEmail` - as a character (chr) data type\n",
    "- The player's email (hidden)\n",
    "\n",
    "`played_hours` - as a double (dbl) data type\n",
    "- The hours spent playing on the server \n",
    "    - minimum: 0.000 \n",
    "    - maximum: 223.100\n",
    "    - median: 0.100\n",
    "    - mean: 5.846\n",
    "    - standard deviation: 28.35734 \n",
    "\n",
    "`name` - as a character (chr) data type\n",
    "- The player's name\n",
    "\n",
    "`gender` - as a character (chr) data type\n",
    "- The player's gender\n",
    "\n",
    "`Age` - as a double (dbl) data type\n",
    "- The player's age\n",
    "    - minimum: 8.00\n",
    "    - maximum: 50.00\n",
    "    - median: 19.00\n",
    "    - mean: 20.52\n",
    "    - standard deviation: 6.174667\n",
    "    - NAs: 2 -> This means that 2 players did not disclose their age"
   ]
  },
  {
   "cell_type": "code",
   "execution_count": null,
   "id": "16facfd2-2c75-43fe-ac3a-46a396d9dcc0",
   "metadata": {},
   "outputs": [],
   "source": [
    "set.seed(123)\n",
    "players <- players1 |>\n",
    "    select(Age, played_hours)\n",
    "head(players)"
   ]
  },
  {
   "cell_type": "code",
   "execution_count": null,
   "id": "5d385a3c-b2d6-4d5b-b3dc-f335e68409be",
   "metadata": {},
   "outputs": [],
   "source": [
    "set.seed(123)\n",
    "players_split <- initial_split(players, prop = 0.60, strata = played_hours)\n",
    "players_training <- training(players_split)\n",
    "players_testing <- testing(players_split)\n",
    "\n",
    "players_training <- na.omit(players_training)\n",
    "players_testing <- na.omit(players_testing)"
   ]
  },
  {
   "cell_type": "code",
   "execution_count": null,
   "id": "098d2976-5352-4b8b-ba55-16aeb9ff8644",
   "metadata": {},
   "outputs": [],
   "source": [
    "set.seed(123)\n",
    "options(repr.plot.width = 8, repr.plot.height = 7)\n",
    "age_plot <- players_training|>\n",
    "    ggplot(aes(x = Age, y = played_hours))+\n",
    "            geom_bar(stat = \"identity\") +\n",
    "    labs(x = \"Age (in Years)\", y = \"Hours Played\", title = \"Graph 1.0: Age vs. Hours Played Bar Graph\") +\n",
    "    theme(element_text(size = 15))\n",
    "age_plot"
   ]
  },
  {
   "cell_type": "code",
   "execution_count": null,
   "id": "fe6857f8-2149-4fff-8287-eab86b764848",
   "metadata": {},
   "outputs": [],
   "source": [
    "set.seed(123)\n",
    "players_grouped <- players_training|>\n",
    "    group_by(Age)|>\n",
    "    summarize(mean_played_time = mean(played_hours))\n",
    "players_grouped"
   ]
  },
  {
   "cell_type": "code",
   "execution_count": null,
   "id": "d6dac482-2c30-48f1-a7fa-f6d214cc02f3",
   "metadata": {},
   "outputs": [],
   "source": [
    "set.seed(123)\n",
    "players_grouped_graph <- players_grouped|>\n",
    "    ggplot(aes(x = Age, y = mean_played_time))+\n",
    "    geom_bar(stat = \"identity\")+\n",
    "    labs(x = \"Age (in Years)\", y = \"Mean Hours Played\", title = \"Age vs. Mean Hours Played Scatter Plot\")\n",
    "players_grouped_graph"
   ]
  },
  {
   "cell_type": "code",
   "execution_count": null,
   "id": "2f642e1d-dad9-44e8-9932-df744a3e6959",
   "metadata": {},
   "outputs": [],
   "source": [
    "set.seed(123)\n",
    "players_grouped_scatter <- players_grouped|>\n",
    "    ggplot(aes(x = Age, y = mean_played_time))+\n",
    "    geom_point()+\n",
    "    labs(x = \"Age (in Years)\", y = \"Mean Hours Played\", title = \"Age vs. Mean Hours Played Scatter Plot\")\n",
    "players_grouped_scatter"
   ]
  },
  {
   "cell_type": "code",
   "execution_count": null,
   "id": "e70f58eb-2131-4d3b-b88b-8b4645668d52",
   "metadata": {},
   "outputs": [],
   "source": [
    "set.seed(123)\n",
    "age_recipe <- recipe(played_hours ~ Age, data = players_training)|>\n",
    "    step_center(Age)|>\n",
    "    step_scale(Age)\n",
    "age_recipe"
   ]
  },
  {
   "cell_type": "code",
   "execution_count": null,
   "id": "a5cf8c2a-a159-4b1b-8167-7a219bf7c48e",
   "metadata": {},
   "outputs": [],
   "source": [
    "set.seed(123)\n",
    "age_model <- nearest_neighbor(weight_func = 'rectangular', neighbors = tune())|>\n",
    "    set_engine('kknn')|>\n",
    "    set_mode('regression')\n",
    "age_model"
   ]
  },
  {
   "cell_type": "code",
   "execution_count": null,
   "id": "f12526d2-139e-4b28-b1f5-7af1000f7c14",
   "metadata": {},
   "outputs": [],
   "source": [
    "set.seed(123)\n",
    "age_vfold <- vfold_cv(players_training, v = 5, strata = played_hours)\n",
    "age_grid <- tibble(neighbors = c(1, 2, 3, 4, 5))\n",
    "\n",
    "age_w <- workflow()|>\n",
    "    add_recipe(age_recipe)|>\n",
    "    add_model(age_model)\n",
    "age_w\n",
    "\n",
    "age_workflow <- age_w |>\n",
    "    tune_grid(resamples = age_vfold, grid = age_grid) |>\n",
    "    collect_metrics()\n",
    "age_workflow\n",
    "\n",
    "age_trained <- age_workflow|>\n",
    "    filter(.metric == \"rmse\")|>\n",
    "    filter(mean == min(mean))\n",
    "age_trained\n",
    "\n",
    "age_spec <- nearest_neighbor(weight_func = 'rectangular', neighbors = 4)|>\n",
    "    set_engine('kknn')|>\n",
    "    set_mode('regression')\n",
    "\n",
    "age_fit <- workflow()|>\n",
    "    add_recipe(age_recipe)|>\n",
    "    add_model(age_spec)|>\n",
    "    fit(data = players_training)\n",
    "age_fit\n"
   ]
  },
  {
   "cell_type": "code",
   "execution_count": null,
   "id": "2054af66-4d20-4e49-a3c1-9746f350e995",
   "metadata": {},
   "outputs": [],
   "source": [
    "\n",
    "# ggplot(players_testing, aes(x = played_hours, y = .pred)) +\n",
    "#   geom_point() +\n",
    "#   geom_abline(slope = 1, intercept = 0, color = \"red\") +\n",
    "#   theme_minimal() +\n",
    "#   labs(x = \"Actual Values\", y = \"Predicted Values\")\n"
   ]
  },
  {
   "cell_type": "code",
   "execution_count": null,
   "id": "a7b48b94-0946-45a6-97e5-78fbdc569a87",
   "metadata": {},
   "outputs": [],
   "source": []
  },
  {
   "cell_type": "code",
   "execution_count": null,
   "id": "cb49080d-33c8-41f7-ba49-914e3c9ff954",
   "metadata": {},
   "outputs": [],
   "source": []
  },
  {
   "cell_type": "code",
   "execution_count": null,
   "id": "5db6a1f1-de92-41c8-821c-707c220d7aa1",
   "metadata": {},
   "outputs": [],
   "source": []
  },
  {
   "cell_type": "code",
   "execution_count": null,
   "id": "44ed6fa6-45e1-445b-9505-bfebb459b143",
   "metadata": {},
   "outputs": [],
   "source": []
  },
  {
   "cell_type": "code",
   "execution_count": null,
   "id": "1908e29f-71a7-4871-b3f0-acce70a14363",
   "metadata": {},
   "outputs": [],
   "source": []
  }
 ],
 "metadata": {
  "kernelspec": {
   "display_name": "R",
   "language": "R",
   "name": "ir"
  },
  "language_info": {
   "codemirror_mode": "r",
   "file_extension": ".r",
   "mimetype": "text/x-r-source",
   "name": "R",
   "pygments_lexer": "r",
   "version": "4.3.3"
  }
 },
 "nbformat": 4,
 "nbformat_minor": 5
}
