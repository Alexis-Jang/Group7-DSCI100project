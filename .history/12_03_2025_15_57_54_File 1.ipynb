{
 "cells": [
  {
   "cell_type": "markdown",
   "id": "4d006935-8eb6-4500-9365-5e3cabd374a6",
   "metadata": {},
   "source": [
    "test to see if the remote repository works"
   ]
  },
  {
   "cell_type": "code",
   "execution_count": null,
   "id": "6802752c-efa4-42c0-9734-7ee6946fa1dc",
   "metadata": {},
   "outputs": [],
   "source": [
    "library(tidyverse)"
   ]
  },
  {
   "cell_type": "code",
   "execution_count": null,
   "id": "d212659c-19a0-4714-925e-f18b6967aab9",
   "metadata": {},
   "outputs": [],
   "source": [
    "players <- read_csv(\"DSCI 100 Players.csv\")\n",
    "sessions <- read_csv(\"DSCI 100 sessions.csv\")\n",
    "players\n",
    "sessions"
   ]
  },
  {
   "cell_type": "code",
   "execution_count": null,
   "id": "6836aa58-1ae0-4f72-aae0-473aea321e68",
   "metadata": {},
   "outputs": [],
   "source": []
  }
 ],
 "metadata": {
  "kernelspec": {
   "display_name": "R",
   "language": "R",
   "name": "ir"
  },
  "language_info": {
   "codemirror_mode": "r",
   "file_extension": ".r",
   "mimetype": "text/x-r-source",
   "name": "R",
   "pygments_lexer": "r",
   "version": "4.3.3"
  }
 },
 "nbformat": 4,
 "nbformat_minor": 5
}
