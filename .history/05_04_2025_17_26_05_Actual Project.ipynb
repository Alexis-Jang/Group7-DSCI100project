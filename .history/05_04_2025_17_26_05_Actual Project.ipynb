{
 "cells": [
  {
   "cell_type": "code",
   "execution_count": null,
   "id": "45cdce37-579e-4708-8140-cda510797882",
   "metadata": {},
   "outputs": [],
   "source": [
    "library(tidyverse)\n",
    "library(tidymodels)\n",
    "library(repr)\n",
    "library(dplyr)\n"
   ]
  },
  {
   "cell_type": "code",
   "execution_count": null,
   "id": "c0b91c29-9598-4aaa-ae68-5ea5b2879bf3",
   "metadata": {},
   "outputs": [],
   "source": [
    "playersurl <-\"https://raw.githubusercontent.com/Alexis-Jang/Group7-DSCI100project/refs/heads/main/DSCI%20100%20Players.csv\"\n",
    "players.csv <- \"players.csv\"\n",
    "download.file(playersurl,players.csv, mode = \"wb\")\n",
    "players1 <- read.csv(players.csv)\n",
    "head(players1)"
   ]
  },
  {
   "cell_type": "markdown",
   "id": "0f761b38-797d-447b-9ea3-2ff47181aece",
   "metadata": {},
   "source": [
    "The data set \"players.csv\" has 196 observations. It tells us that there are 7 variables and 196 rows. Below are the variables and their relevant summary statistics:\n",
    "  \n",
    "`experience` - character (chr) data type\n",
    "- Experience level(Amateur, Regular, Pro, Veteran)\n",
    "\n",
    "`subscribe` - logical (log) data type\n",
    "- Whether or not the player subscribed\n",
    "  - FALSE: 52\n",
    "  - TRUE: 144\n",
    "\n",
    "`hashedEmail` - as a character (chr) data type\n",
    "- The player's email (hidden)\n",
    "\n",
    "`played_hours` - as a double (dbl) data type\n",
    "- The hours spent playing on the server \n",
    "    - minimum: 0.000 \n",
    "    - maximum: 223.100\n",
    "    - median: 0.100\n",
    "    - mean: 5.846\n",
    "    - standard deviation: 28.35734 \n",
    "\n",
    "`name` - as a character (chr) data type\n",
    "- The player's name\n",
    "\n",
    "`gender` - as a character (chr) data type\n",
    "- The player's gender\n",
    "\n",
    "`Age` - as a double (dbl) data type\n",
    "- The player's age\n",
    "    - minimum: 8.00\n",
    "    - maximum: 50.00\n",
    "    - median: 19.00\n",
    "    - mean: 20.52\n",
    "    - standard deviation: 6.174667\n",
    "    - NAs: 2 -> This means that 2 players did not disclose their age\n",
    "\n",
    "\n",
    "For this project, we will only look at `Age` to see if it can help us predict the `played_hours`of the player. In targetting those with the highest play time, we can find what age of player contributes the most data to the data set."
   ]
  },
  {
   "cell_type": "code",
   "execution_count": null,
   "id": "16facfd2-2c75-43fe-ac3a-46a396d9dcc0",
   "metadata": {},
   "outputs": [],
   "source": [
    "set.seed(123)\n",
    "\n",
    "#firstly, we will wrangle the data to tidy it\n",
    "#selecting for only Age and played_hours will help to clean up the data\n",
    "players <- players1 |>\n",
    "    select(Age, played_hours)\n",
    "head(players)"
   ]
  },
  {
   "cell_type": "code",
   "execution_count": null,
   "id": "5d385a3c-b2d6-4d5b-b3dc-f335e68409be",
   "metadata": {},
   "outputs": [],
   "source": [
    "set.seed(123)\n",
    "\n",
    "#since there are very few NAs in the data, they will be omitted from the data set before splitting it for cross validation\n",
    "players_omitted <- na.omit(players)\n",
    "\n",
    "#next, the data will be split into training and testing data since we need to train our model\n",
    "#the split will be 80% training and 20% testing\n",
    "players_split <- initial_split(players_omitted, prop = 0.80, strata = played_hours)\n",
    "players_training <- training(players_split)\n",
    "players_testing <- testing(players_split)\n"
   ]
  },
  {
   "cell_type": "code",
   "execution_count": null,
   "id": "098d2976-5352-4b8b-ba55-16aeb9ff8644",
   "metadata": {},
   "outputs": [],
   "source": [
    "set.seed(123)\n",
    "#visualizing the data, we can see the age range of 17-20 has a very high play time, we can explore this further in our project\n",
    "options(repr.plot.width = 8, repr.plot.height = 7)\n",
    "age_plot <- players_training|>\n",
    "    ggplot(aes(x = Age, y = played_hours))+\n",
    "            geom_bar(stat = \"identity\") +\n",
    "    labs(x = \"Age (in Years)\", y = \"Hours Played\", title = \"Graph 1.0: Age vs. Hours Played Bar Graph\") +\n",
    "    theme(element_text(size = 15))\n",
    "age_plot"
   ]
  },
  {
   "cell_type": "code",
   "execution_count": null,
   "id": "fe6857f8-2149-4fff-8287-eab86b764848",
   "metadata": {},
   "outputs": [],
   "source": [
    "set.seed(123)\n",
    "#since the high play times might be due to the fact that there are more observations with that age range, \n",
    "#we can find the mean play time of everyone by grouping by age and summarizing to find the mean played hours\n",
    "players_grouped <- players_training|>\n",
    "    group_by(Age)|>\n",
    "    summarize(mean_played_time = mean(played_hours))\n",
    "players_grouped"
   ]
  },
  {
   "cell_type": "code",
   "execution_count": null,
   "id": "d6dac482-2c30-48f1-a7fa-f6d214cc02f3",
   "metadata": {},
   "outputs": [],
   "source": [
    "set.seed(123)\n",
    "#now, we can see a smaller range of players between 19-20 that seem to have the highest play time\n",
    "players_grouped_graph <- players_grouped|>\n",
    "    ggplot(aes(x = Age, y = mean_played_time))+\n",
    "    geom_bar(stat = \"identity\")+\n",
    "    labs(x = \"Age (in Years)\", y = \"Mean Hours Played\", title = \"Graph 1.2: Age vs. Mean Hours Played Scatter Plot\")\n",
    "players_grouped_graph"
   ]
  },
  {
   "cell_type": "code",
   "execution_count": null,
   "id": "2f642e1d-dad9-44e8-9932-df744a3e6959",
   "metadata": {},
   "outputs": [],
   "source": [
    "set.seed(123)\n",
    "#to decide which regression model to use, we should see if the data is linear\n",
    "#since the visualization below shows that the data is not linear, then we should not use linear regression and should use KNN regression\n",
    "players_grouped_scatter <- players_grouped|>\n",
    "    ggplot(aes(x = Age, y = mean_played_time))+\n",
    "    geom_point()+\n",
    "    labs(x = \"Age (in Years)\", y = \"Mean Hours Played\", title = \"Graph 1.3: Age vs. Mean Hours Played Scatter Plot\")\n",
    "players_grouped_scatter"
   ]
  },
  {
   "cell_type": "code",
   "execution_count": null,
   "id": "e70f58eb-2131-4d3b-b88b-8b4645668d52",
   "metadata": {},
   "outputs": [],
   "source": [
    "set.seed(123)\n",
    "#making the recipe for the regression model and standardizing the data:\n",
    "age_recipe <- recipe(played_hours ~ Age, data = players_training)|>\n",
    "    step_center(Age)|>\n",
    "    step_scale(Age)\n",
    "age_recipe"
   ]
  },
  {
   "cell_type": "code",
   "execution_count": null,
   "id": "a5cf8c2a-a159-4b1b-8167-7a219bf7c48e",
   "metadata": {},
   "outputs": [],
   "source": [
    "set.seed(123)\n",
    "#making the model for KNN regression, we want to optimize for the best K\n",
    "#so, instead of specifying the K, we will use tune() to use cross validation with 5 folds\n",
    "age_model <- nearest_neighbor(weight_func = 'rectangular', neighbors = tune())|>\n",
    "    set_engine('kknn')|>\n",
    "    set_mode('regression')\n",
    "age_model"
   ]
  },
  {
   "cell_type": "code",
   "execution_count": null,
   "id": "f12526d2-139e-4b28-b1f5-7af1000f7c14",
   "metadata": {},
   "outputs": [],
   "source": [
    "set.seed(123)\n",
    "#we will test a range of neighbours from 1 to 15 to find the best K\n",
    "age_vfold <- vfold_cv(players_training, v = 5, strata = played_hours)\n",
    "age_grid <- tibble(neighbors = c(1, 2, 3, 4, 5, 6, 7, 8, 9, 10, 11, 12, 13, 14, 15))\n",
    "\n",
    "age_w <- workflow()|>\n",
    "    add_recipe(age_recipe)|>\n",
    "    add_model(age_model)\n",
    "age_w\n",
    "\n",
    "age_workflow <- age_w |>\n",
    "    tune_grid(resamples = age_vfold, grid = age_grid) |>\n",
    "    collect_metrics()\n",
    "age_workflow\n",
    "\n",
    "#using our workflow, we will find the best K with the lowest root mean squared error\n",
    "age_trained <- age_workflow|>\n",
    "    filter(.metric == \"rmse\")|>\n",
    "    filter(mean == min(mean))\n",
    "age_trained\n",
    "#thus, we have found that 4 neighbours is the best K"
   ]
  },
  {
   "cell_type": "code",
   "execution_count": null,
   "id": "7f0c0923-d1e3-4d22-9bdd-d16d42b63aa8",
   "metadata": {},
   "outputs": [],
   "source": [
    "#next, we will fix our model to use the best K = 4 in our regression\n",
    "age_spec <- nearest_neighbor(weight_func = 'rectangular', neighbors = 4)|>\n",
    "    set_engine('kknn')|>\n",
    "    set_mode('regression')\n",
    "\n",
    "age_fit <- workflow()|>\n",
    "    add_recipe(age_recipe)|>\n",
    "    add_model(age_spec)|>\n",
    "    fit(data = players_training)\n",
    "age_fit\n",
    "\n",
    "#now we will see the root mean squared prediction error\n",
    "age_rmspe <- age_fit |>\n",
    "        predict(players_testing) |>\n",
    "        bind_cols(players_testing) |>\n",
    "        metrics(truth = played_hours, estimate = .pred)|>\n",
    "        filter(.metric == \"rmse\")\n",
    "age_rmspe\n",
    "#we can see that the root mean squared prediction error from our testing data is not significantly different \n",
    "#from the RMSE of our training model of best K"
   ]
  },
  {
   "cell_type": "code",
   "execution_count": null,
   "id": "2054af66-4d20-4e49-a3c1-9746f350e995",
   "metadata": {},
   "outputs": [],
   "source": [
    "set.seed(123)\n",
    "#now, we will make a visualization of our analysis\n",
    "age_pred <- age_fit |>\n",
    "          predict(players_training) |>\n",
    "          bind_cols(players_training)\n",
    "head(age_pred)\n",
    "age_plot <- age_pred|>\n",
    "    ggplot(aes(x = Age, y = played_hours)) +\n",
    "    geom_point(alpha = 0.4) +\n",
    "    geom_line(data = age_pred, mapping = aes(x = Age, y = .pred), colour = \"blue\") +\n",
    "    labs(x = \"Age (in Years)\", y = \"Hours Played\", title = \"Graph 2.0: Age of Player vs. Hours Played Visualization\")+\n",
    "    theme(text = element_text(size = 15))\n",
    "age_plot\n"
   ]
  },
  {
   "cell_type": "code",
   "execution_count": null,
   "id": "a7b48b94-0946-45a6-97e5-78fbdc569a87",
   "metadata": {},
   "outputs": [],
   "source": []
  },
  {
   "cell_type": "code",
   "execution_count": null,
   "id": "cb49080d-33c8-41f7-ba49-914e3c9ff954",
   "metadata": {},
   "outputs": [],
   "source": []
  },
  {
   "cell_type": "code",
   "execution_count": null,
   "id": "5db6a1f1-de92-41c8-821c-707c220d7aa1",
   "metadata": {},
   "outputs": [],
   "source": []
  },
  {
   "cell_type": "code",
   "execution_count": null,
   "id": "44ed6fa6-45e1-445b-9505-bfebb459b143",
   "metadata": {},
   "outputs": [],
   "source": []
  },
  {
   "cell_type": "code",
   "execution_count": null,
   "id": "1908e29f-71a7-4871-b3f0-acce70a14363",
   "metadata": {},
   "outputs": [],
   "source": []
  },
  {
   "cell_type": "code",
   "execution_count": null,
   "id": "66456e12-48d0-44da-8ce1-a5f37093f617",
   "metadata": {},
   "outputs": [],
   "source": []
  }
 ],
 "metadata": {
  "kernelspec": {
   "display_name": "R",
   "language": "R",
   "name": "ir"
  },
  "language_info": {
   "codemirror_mode": "r",
   "file_extension": ".r",
   "mimetype": "text/x-r-source",
   "name": "R",
   "pygments_lexer": "r",
   "version": "4.3.3"
  }
 },
 "nbformat": 4,
 "nbformat_minor": 5
}
